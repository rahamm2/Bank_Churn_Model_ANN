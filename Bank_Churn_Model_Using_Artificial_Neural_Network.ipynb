{
 "cells": [
  {
   "cell_type": "markdown",
   "metadata": {},
   "source": [
    "# Artifical Neural Network"
   ]
  },
  {
   "cell_type": "markdown",
   "metadata": {},
   "source": [
    "### This model will predict whether the customer  will leave  from the bank or not!!!"
   ]
  },
  {
   "cell_type": "markdown",
   "metadata": {},
   "source": [
    "### Importing Libraries"
   ]
  },
  {
   "cell_type": "code",
   "execution_count": 1,
   "metadata": {},
   "outputs": [],
   "source": [
    "import pandas as pd \n",
    "import numpy as np\n",
    "import tensorflow as tf"
   ]
  },
  {
   "cell_type": "code",
   "execution_count": 2,
   "metadata": {},
   "outputs": [
    {
     "data": {
      "text/plain": [
       "'2.4.1'"
      ]
     },
     "execution_count": 2,
     "metadata": {},
     "output_type": "execute_result"
    }
   ],
   "source": [
    "tf.__version__"
   ]
  },
  {
   "cell_type": "code",
   "execution_count": 5,
   "metadata": {},
   "outputs": [],
   "source": [
    "# Importing the dataset\n",
    "data=pd.read_csv(\"Churn_Modelling.csv\",index_col=False)"
   ]
  },
  {
   "cell_type": "code",
   "execution_count": 6,
   "metadata": {},
   "outputs": [
    {
     "data": {
      "text/html": [
       "<div>\n",
       "<style scoped>\n",
       "    .dataframe tbody tr th:only-of-type {\n",
       "        vertical-align: middle;\n",
       "    }\n",
       "\n",
       "    .dataframe tbody tr th {\n",
       "        vertical-align: top;\n",
       "    }\n",
       "\n",
       "    .dataframe thead th {\n",
       "        text-align: right;\n",
       "    }\n",
       "</style>\n",
       "<table border=\"1\" class=\"dataframe\">\n",
       "  <thead>\n",
       "    <tr style=\"text-align: right;\">\n",
       "      <th></th>\n",
       "      <th>RowNumber</th>\n",
       "      <th>CustomerId</th>\n",
       "      <th>Surname</th>\n",
       "      <th>CreditScore</th>\n",
       "      <th>Geography</th>\n",
       "      <th>Gender</th>\n",
       "      <th>Age</th>\n",
       "      <th>Tenure</th>\n",
       "      <th>Balance</th>\n",
       "      <th>NumOfProducts</th>\n",
       "      <th>HasCrCard</th>\n",
       "      <th>IsActiveMember</th>\n",
       "      <th>EstimatedSalary</th>\n",
       "      <th>Exited</th>\n",
       "    </tr>\n",
       "  </thead>\n",
       "  <tbody>\n",
       "    <tr>\n",
       "      <th>0</th>\n",
       "      <td>1</td>\n",
       "      <td>15634602</td>\n",
       "      <td>Hargrave</td>\n",
       "      <td>619</td>\n",
       "      <td>France</td>\n",
       "      <td>Female</td>\n",
       "      <td>42</td>\n",
       "      <td>2</td>\n",
       "      <td>0.00</td>\n",
       "      <td>1</td>\n",
       "      <td>1</td>\n",
       "      <td>1</td>\n",
       "      <td>101348.88</td>\n",
       "      <td>1</td>\n",
       "    </tr>\n",
       "    <tr>\n",
       "      <th>1</th>\n",
       "      <td>2</td>\n",
       "      <td>15647311</td>\n",
       "      <td>Hill</td>\n",
       "      <td>608</td>\n",
       "      <td>Spain</td>\n",
       "      <td>Female</td>\n",
       "      <td>41</td>\n",
       "      <td>1</td>\n",
       "      <td>83807.86</td>\n",
       "      <td>1</td>\n",
       "      <td>0</td>\n",
       "      <td>1</td>\n",
       "      <td>112542.58</td>\n",
       "      <td>0</td>\n",
       "    </tr>\n",
       "    <tr>\n",
       "      <th>2</th>\n",
       "      <td>3</td>\n",
       "      <td>15619304</td>\n",
       "      <td>Onio</td>\n",
       "      <td>502</td>\n",
       "      <td>France</td>\n",
       "      <td>Female</td>\n",
       "      <td>42</td>\n",
       "      <td>8</td>\n",
       "      <td>159660.80</td>\n",
       "      <td>3</td>\n",
       "      <td>1</td>\n",
       "      <td>0</td>\n",
       "      <td>113931.57</td>\n",
       "      <td>1</td>\n",
       "    </tr>\n",
       "    <tr>\n",
       "      <th>3</th>\n",
       "      <td>4</td>\n",
       "      <td>15701354</td>\n",
       "      <td>Boni</td>\n",
       "      <td>699</td>\n",
       "      <td>France</td>\n",
       "      <td>Female</td>\n",
       "      <td>39</td>\n",
       "      <td>1</td>\n",
       "      <td>0.00</td>\n",
       "      <td>2</td>\n",
       "      <td>0</td>\n",
       "      <td>0</td>\n",
       "      <td>93826.63</td>\n",
       "      <td>0</td>\n",
       "    </tr>\n",
       "    <tr>\n",
       "      <th>4</th>\n",
       "      <td>5</td>\n",
       "      <td>15737888</td>\n",
       "      <td>Mitchell</td>\n",
       "      <td>850</td>\n",
       "      <td>Spain</td>\n",
       "      <td>Female</td>\n",
       "      <td>43</td>\n",
       "      <td>2</td>\n",
       "      <td>125510.82</td>\n",
       "      <td>1</td>\n",
       "      <td>1</td>\n",
       "      <td>1</td>\n",
       "      <td>79084.10</td>\n",
       "      <td>0</td>\n",
       "    </tr>\n",
       "  </tbody>\n",
       "</table>\n",
       "</div>"
      ],
      "text/plain": [
       "   RowNumber  CustomerId   Surname  CreditScore Geography  Gender  Age  \\\n",
       "0          1    15634602  Hargrave          619    France  Female   42   \n",
       "1          2    15647311      Hill          608     Spain  Female   41   \n",
       "2          3    15619304      Onio          502    France  Female   42   \n",
       "3          4    15701354      Boni          699    France  Female   39   \n",
       "4          5    15737888  Mitchell          850     Spain  Female   43   \n",
       "\n",
       "   Tenure    Balance  NumOfProducts  HasCrCard  IsActiveMember  \\\n",
       "0       2       0.00              1          1               1   \n",
       "1       1   83807.86              1          0               1   \n",
       "2       8  159660.80              3          1               0   \n",
       "3       1       0.00              2          0               0   \n",
       "4       2  125510.82              1          1               1   \n",
       "\n",
       "   EstimatedSalary  Exited  \n",
       "0        101348.88       1  \n",
       "1        112542.58       0  \n",
       "2        113931.57       1  \n",
       "3         93826.63       0  \n",
       "4         79084.10       0  "
      ]
     },
     "execution_count": 6,
     "metadata": {},
     "output_type": "execute_result"
    }
   ],
   "source": [
    "data.head()"
   ]
  },
  {
   "cell_type": "code",
   "execution_count": 7,
   "metadata": {},
   "outputs": [],
   "source": [
    "# Splitting into idependent and dependent variables\n",
    "X=data.iloc[:,3:-1].values\n",
    "y=data.iloc[:,-1].values"
   ]
  },
  {
   "cell_type": "code",
   "execution_count": 8,
   "metadata": {},
   "outputs": [
    {
     "name": "stdout",
     "output_type": "stream",
     "text": [
      "[[619 'France' 'Female' ... 1 1 101348.88]\n",
      " [608 'Spain' 'Female' ... 0 1 112542.58]\n",
      " [502 'France' 'Female' ... 1 0 113931.57]\n",
      " ...\n",
      " [709 'France' 'Female' ... 0 1 42085.58]\n",
      " [772 'Germany' 'Male' ... 1 0 92888.52]\n",
      " [792 'France' 'Female' ... 1 0 38190.78]]\n"
     ]
    }
   ],
   "source": [
    "print(X)"
   ]
  },
  {
   "cell_type": "code",
   "execution_count": 9,
   "metadata": {},
   "outputs": [
    {
     "name": "stdout",
     "output_type": "stream",
     "text": [
      "[1 0 1 ... 1 1 0]\n"
     ]
    }
   ],
   "source": [
    "print(y)"
   ]
  },
  {
   "cell_type": "markdown",
   "metadata": {},
   "source": [
    "### Encoding Catagories dataset using label encoder"
   ]
  },
  {
   "cell_type": "code",
   "execution_count": 12,
   "metadata": {},
   "outputs": [],
   "source": [
    "from  sklearn.preprocessing import LabelEncoder"
   ]
  },
  {
   "cell_type": "code",
   "execution_count": 13,
   "metadata": {},
   "outputs": [],
   "source": [
    "# Using label encoder transform Gender Collumn\n",
    "le=LabelEncoder()\n",
    "X[:,2]=le.fit_transform(X[:,2])"
   ]
  },
  {
   "cell_type": "code",
   "execution_count": 14,
   "metadata": {},
   "outputs": [
    {
     "name": "stdout",
     "output_type": "stream",
     "text": [
      "[0 0 0 ... 0 1 0]\n"
     ]
    }
   ],
   "source": [
    "print(X[:,2])"
   ]
  },
  {
   "cell_type": "markdown",
   "metadata": {},
   "source": [
    "### One Hot Coding for Geography Column"
   ]
  },
  {
   "cell_type": "code",
   "execution_count": 15,
   "metadata": {},
   "outputs": [],
   "source": [
    "from sklearn.compose import ColumnTransformer\n",
    "from sklearn.preprocessing import OneHotEncoder\n",
    "ct=ColumnTransformer(transformers=[('encoder',OneHotEncoder(),[1])],remainder='passthrough')\n",
    "X=np.array(ct.fit_transform(X))"
   ]
  },
  {
   "cell_type": "code",
   "execution_count": 16,
   "metadata": {},
   "outputs": [
    {
     "name": "stdout",
     "output_type": "stream",
     "text": [
      "[[1.0 0.0 0.0 ... 1 1 101348.88]\n",
      " [0.0 0.0 1.0 ... 0 1 112542.58]\n",
      " [1.0 0.0 0.0 ... 1 0 113931.57]\n",
      " ...\n",
      " [1.0 0.0 0.0 ... 0 1 42085.58]\n",
      " [0.0 1.0 0.0 ... 1 0 92888.52]\n",
      " [1.0 0.0 0.0 ... 1 0 38190.78]]\n"
     ]
    }
   ],
   "source": [
    "print(X)"
   ]
  },
  {
   "cell_type": "markdown",
   "metadata": {},
   "source": [
    "### Splitting the dataset into training and testing"
   ]
  },
  {
   "cell_type": "code",
   "execution_count": 18,
   "metadata": {},
   "outputs": [],
   "source": [
    "from sklearn.model_selection import train_test_split\n",
    "X_train,X_test,y_train,y_test=train_test_split(X,y,test_size=.30,random_state=42)"
   ]
  },
  {
   "cell_type": "code",
   "execution_count": 24,
   "metadata": {},
   "outputs": [
    {
     "data": {
      "text/plain": [
       "((7000, 12), (3000, 12))"
      ]
     },
     "execution_count": 24,
     "metadata": {},
     "output_type": "execute_result"
    }
   ],
   "source": [
    "X_train.shape , X_test.shape"
   ]
  },
  {
   "cell_type": "code",
   "execution_count": 25,
   "metadata": {},
   "outputs": [
    {
     "data": {
      "text/plain": [
       "((7000,), (3000,))"
      ]
     },
     "execution_count": 25,
     "metadata": {},
     "output_type": "execute_result"
    }
   ],
   "source": [
    "y_train.shape , y_test.shape"
   ]
  },
  {
   "cell_type": "markdown",
   "metadata": {},
   "source": [
    "### Feature Scaling"
   ]
  },
  {
   "cell_type": "code",
   "execution_count": 26,
   "metadata": {},
   "outputs": [],
   "source": [
    "from sklearn.preprocessing import StandardScaler\n",
    "sc=StandardScaler()\n",
    "X_train=sc.fit_transform(X_train)\n",
    "X_test=sc.transform(X_test)"
   ]
  },
  {
   "cell_type": "markdown",
   "metadata": {},
   "source": [
    "### Building ANN model"
   ]
  },
  {
   "cell_type": "code",
   "execution_count": 27,
   "metadata": {},
   "outputs": [],
   "source": [
    "#Initializing the ANN\n",
    "ann=tf.keras.models.Sequential()"
   ]
  },
  {
   "cell_type": "code",
   "execution_count": 28,
   "metadata": {},
   "outputs": [],
   "source": [
    "## Adding first hidden layer  and input layer \n",
    "ann.add(tf.keras.layers.Dense(units=6,activation='relu'))"
   ]
  },
  {
   "cell_type": "code",
   "execution_count": 29,
   "metadata": {},
   "outputs": [],
   "source": [
    "## Adding second hidden layer\n",
    "ann.add(tf.keras.layers.Dense(units=6,activation='relu'))"
   ]
  },
  {
   "cell_type": "code",
   "execution_count": 30,
   "metadata": {},
   "outputs": [],
   "source": [
    "## Adding third hidden layer\n",
    "ann.add(tf.keras.layers.Dense(units=6,activation='relu'))"
   ]
  },
  {
   "cell_type": "code",
   "execution_count": 31,
   "metadata": {},
   "outputs": [],
   "source": [
    "##Aing output layer\n",
    "ann.add(tf.keras.layers.Dense(units=1,activation=\"sigmoid\"))"
   ]
  },
  {
   "cell_type": "markdown",
   "metadata": {},
   "source": [
    "### Training the ANN"
   ]
  },
  {
   "cell_type": "code",
   "execution_count": 32,
   "metadata": {},
   "outputs": [],
   "source": [
    "## Compiling the ANN\n",
    "ann.compile(optimizer='adam',loss='binary_crossentropy',metrics=['accuracy'])"
   ]
  },
  {
   "cell_type": "code",
   "execution_count": 33,
   "metadata": {},
   "outputs": [
    {
     "name": "stdout",
     "output_type": "stream",
     "text": [
      "Epoch 1/100\n",
      "219/219 [==============================] - 2s 955us/step - loss: 0.6687 - accuracy: 0.6509\n",
      "Epoch 2/100\n",
      "219/219 [==============================] - 0s 861us/step - loss: 0.4748 - accuracy: 0.7958\n",
      "Epoch 3/100\n",
      "219/219 [==============================] - 0s 870us/step - loss: 0.4557 - accuracy: 0.7962\n",
      "Epoch 4/100\n",
      "219/219 [==============================] - 0s 880us/step - loss: 0.4333 - accuracy: 0.8074\n",
      "Epoch 5/100\n",
      "219/219 [==============================] - 0s 980us/step - loss: 0.4295 - accuracy: 0.8088\n",
      "Epoch 6/100\n",
      "219/219 [==============================] - 0s 876us/step - loss: 0.4187 - accuracy: 0.8170\n",
      "Epoch 7/100\n",
      "219/219 [==============================] - 0s 877us/step - loss: 0.4163 - accuracy: 0.8131\n",
      "Epoch 8/100\n",
      "219/219 [==============================] - 0s 847us/step - loss: 0.3986 - accuracy: 0.8235\n",
      "Epoch 9/100\n",
      "219/219 [==============================] - 0s 878us/step - loss: 0.3861 - accuracy: 0.8317\n",
      "Epoch 10/100\n",
      "219/219 [==============================] - 0s 862us/step - loss: 0.3767 - accuracy: 0.8452\n",
      "Epoch 11/100\n",
      "219/219 [==============================] - 0s 861us/step - loss: 0.3702 - accuracy: 0.8501\n",
      "Epoch 12/100\n",
      "219/219 [==============================] - 0s 831us/step - loss: 0.3604 - accuracy: 0.8546\n",
      "Epoch 13/100\n",
      "219/219 [==============================] - 0s 782us/step - loss: 0.3634 - accuracy: 0.8461\n",
      "Epoch 14/100\n",
      "219/219 [==============================] - 0s 791us/step - loss: 0.3623 - accuracy: 0.8495\n",
      "Epoch 15/100\n",
      "219/219 [==============================] - 0s 796us/step - loss: 0.3495 - accuracy: 0.8588\n",
      "Epoch 16/100\n",
      "219/219 [==============================] - 0s 800us/step - loss: 0.3408 - accuracy: 0.8633\n",
      "Epoch 17/100\n",
      "219/219 [==============================] - 0s 782us/step - loss: 0.3571 - accuracy: 0.8551\n",
      "Epoch 18/100\n",
      "219/219 [==============================] - 0s 805us/step - loss: 0.3391 - accuracy: 0.8636\n",
      "Epoch 19/100\n",
      "219/219 [==============================] - 0s 764us/step - loss: 0.3485 - accuracy: 0.8545\n",
      "Epoch 20/100\n",
      "219/219 [==============================] - 0s 800us/step - loss: 0.3578 - accuracy: 0.8538\n",
      "Epoch 21/100\n",
      "219/219 [==============================] - 0s 832us/step - loss: 0.3526 - accuracy: 0.8556\n",
      "Epoch 22/100\n",
      "219/219 [==============================] - 0s 846us/step - loss: 0.3283 - accuracy: 0.8696\n",
      "Epoch 23/100\n",
      "219/219 [==============================] - 0s 823us/step - loss: 0.3581 - accuracy: 0.8525\n",
      "Epoch 24/100\n",
      "219/219 [==============================] - 0s 759us/step - loss: 0.3438 - accuracy: 0.8571\n",
      "Epoch 25/100\n",
      "219/219 [==============================] - 0s 805us/step - loss: 0.3503 - accuracy: 0.8554\n",
      "Epoch 26/100\n",
      "219/219 [==============================] - 0s 814us/step - loss: 0.3497 - accuracy: 0.8559\n",
      "Epoch 27/100\n",
      "219/219 [==============================] - 0s 814us/step - loss: 0.3407 - accuracy: 0.8605\n",
      "Epoch 28/100\n",
      "219/219 [==============================] - 0s 745us/step - loss: 0.3459 - accuracy: 0.8566\n",
      "Epoch 29/100\n",
      "219/219 [==============================] - 0s 800us/step - loss: 0.3546 - accuracy: 0.8518\n",
      "Epoch 30/100\n",
      "219/219 [==============================] - 0s 800us/step - loss: 0.3379 - accuracy: 0.8599\n",
      "Epoch 31/100\n",
      "219/219 [==============================] - 0s 791us/step - loss: 0.3322 - accuracy: 0.8647\n",
      "Epoch 32/100\n",
      "219/219 [==============================] - 0s 1ms/step - loss: 0.3397 - accuracy: 0.8549\n",
      "Epoch 33/100\n",
      "219/219 [==============================] - 0s 800us/step - loss: 0.3413 - accuracy: 0.8603\n",
      "Epoch 34/100\n",
      "219/219 [==============================] - 0s 818us/step - loss: 0.3507 - accuracy: 0.8525\n",
      "Epoch 35/100\n",
      "219/219 [==============================] - 0s 1ms/step - loss: 0.3426 - accuracy: 0.8587\n",
      "Epoch 36/100\n",
      "219/219 [==============================] - 0s 1ms/step - loss: 0.3459 - accuracy: 0.8569\n",
      "Epoch 37/100\n",
      "219/219 [==============================] - 0s 1ms/step - loss: 0.3378 - accuracy: 0.8604\n",
      "Epoch 38/100\n",
      "219/219 [==============================] - 0s 1ms/step - loss: 0.3361 - accuracy: 0.8641\n",
      "Epoch 39/100\n",
      "219/219 [==============================] - 0s 878us/step - loss: 0.3440 - accuracy: 0.8606\n",
      "Epoch 40/100\n",
      "219/219 [==============================] - 0s 773us/step - loss: 0.3540 - accuracy: 0.8540\n",
      "Epoch 41/100\n",
      "219/219 [==============================] - 0s 741us/step - loss: 0.3473 - accuracy: 0.8602\n",
      "Epoch 42/100\n",
      "219/219 [==============================] - 0s 718us/step - loss: 0.3425 - accuracy: 0.8623\n",
      "Epoch 43/100\n",
      "219/219 [==============================] - 0s 745us/step - loss: 0.3455 - accuracy: 0.8621\n",
      "Epoch 44/100\n",
      "219/219 [==============================] - 0s 745us/step - loss: 0.3333 - accuracy: 0.8599\n",
      "Epoch 45/100\n",
      "219/219 [==============================] - 0s 727us/step - loss: 0.3442 - accuracy: 0.8603\n",
      "Epoch 46/100\n",
      "219/219 [==============================] - 0s 754us/step - loss: 0.3422 - accuracy: 0.8587\n",
      "Epoch 47/100\n",
      "219/219 [==============================] - 0s 727us/step - loss: 0.3430 - accuracy: 0.8558\n",
      "Epoch 48/100\n",
      "219/219 [==============================] - ETA: 0s - loss: 0.3468 - accuracy: 0.85 - 0s 773us/step - loss: 0.3460 - accuracy: 0.8580\n",
      "Epoch 49/100\n",
      "219/219 [==============================] - 0s 1ms/step - loss: 0.3322 - accuracy: 0.8664\n",
      "Epoch 50/100\n",
      "219/219 [==============================] - 0s 855us/step - loss: 0.3387 - accuracy: 0.8614\n",
      "Epoch 51/100\n",
      "219/219 [==============================] - 0s 763us/step - loss: 0.3288 - accuracy: 0.8667\n",
      "Epoch 52/100\n",
      "219/219 [==============================] - 0s 736us/step - loss: 0.3336 - accuracy: 0.8660\n",
      "Epoch 53/100\n",
      "219/219 [==============================] - 0s 809us/step - loss: 0.3377 - accuracy: 0.8604\n",
      "Epoch 54/100\n",
      "219/219 [==============================] - 0s 727us/step - loss: 0.3400 - accuracy: 0.8592\n",
      "Epoch 55/100\n",
      "219/219 [==============================] - 0s 736us/step - loss: 0.3387 - accuracy: 0.8640\n",
      "Epoch 56/100\n",
      "219/219 [==============================] - 0s 722us/step - loss: 0.3526 - accuracy: 0.8526\n",
      "Epoch 57/100\n",
      "219/219 [==============================] - 0s 722us/step - loss: 0.3488 - accuracy: 0.8565\n",
      "Epoch 58/100\n",
      "219/219 [==============================] - 0s 722us/step - loss: 0.3350 - accuracy: 0.8640\n",
      "Epoch 59/100\n",
      "219/219 [==============================] - 0s 718us/step - loss: 0.3486 - accuracy: 0.8578\n",
      "Epoch 60/100\n",
      "219/219 [==============================] - 0s 681us/step - loss: 0.3323 - accuracy: 0.8635\n",
      "Epoch 61/100\n",
      "219/219 [==============================] - 0s 759us/step - loss: 0.3425 - accuracy: 0.8596\n",
      "Epoch 62/100\n",
      "219/219 [==============================] - 0s 731us/step - loss: 0.3429 - accuracy: 0.8555\n",
      "Epoch 63/100\n",
      "219/219 [==============================] - 0s 695us/step - loss: 0.3371 - accuracy: 0.8606\n",
      "Epoch 64/100\n",
      "219/219 [==============================] - 0s 727us/step - loss: 0.3571 - accuracy: 0.8538\n",
      "Epoch 65/100\n",
      "219/219 [==============================] - 0s 713us/step - loss: 0.3299 - accuracy: 0.8621\n",
      "Epoch 66/100\n",
      "219/219 [==============================] - 0s 731us/step - loss: 0.3438 - accuracy: 0.8583\n",
      "Epoch 67/100\n",
      "219/219 [==============================] - 0s 779us/step - loss: 0.3463 - accuracy: 0.8576\n",
      "Epoch 68/100\n",
      "219/219 [==============================] - 0s 841us/step - loss: 0.3362 - accuracy: 0.8582\n",
      "Epoch 69/100\n",
      "219/219 [==============================] - 0s 850us/step - loss: 0.3364 - accuracy: 0.8647\n",
      "Epoch 70/100\n",
      "219/219 [==============================] - 0s 796us/step - loss: 0.3336 - accuracy: 0.8598\n",
      "Epoch 71/100\n",
      "219/219 [==============================] - 0s 722us/step - loss: 0.3279 - accuracy: 0.8695\n",
      "Epoch 72/100\n",
      "219/219 [==============================] - 0s 727us/step - loss: 0.3340 - accuracy: 0.8638\n",
      "Epoch 73/100\n",
      "219/219 [==============================] - 0s 745us/step - loss: 0.3341 - accuracy: 0.8662\n",
      "Epoch 74/100\n",
      "219/219 [==============================] - 0s 750us/step - loss: 0.3347 - accuracy: 0.8608\n",
      "Epoch 75/100\n",
      "219/219 [==============================] - 0s 741us/step - loss: 0.3353 - accuracy: 0.8643\n",
      "Epoch 76/100\n",
      "219/219 [==============================] - 0s 686us/step - loss: 0.3394 - accuracy: 0.8619\n",
      "Epoch 77/100\n",
      "219/219 [==============================] - 0s 750us/step - loss: 0.3433 - accuracy: 0.8608\n",
      "Epoch 78/100\n",
      "219/219 [==============================] - 0s 731us/step - loss: 0.3343 - accuracy: 0.8617\n",
      "Epoch 79/100\n"
     ]
    },
    {
     "name": "stdout",
     "output_type": "stream",
     "text": [
      "219/219 [==============================] - 0s 690us/step - loss: 0.3263 - accuracy: 0.8685\n",
      "Epoch 80/100\n",
      "219/219 [==============================] - 0s 649us/step - loss: 0.3302 - accuracy: 0.8695\n",
      "Epoch 81/100\n",
      "219/219 [==============================] - 0s 681us/step - loss: 0.3393 - accuracy: 0.8596\n",
      "Epoch 82/100\n",
      "219/219 [==============================] - 0s 649us/step - loss: 0.3454 - accuracy: 0.8612\n",
      "Epoch 83/100\n",
      "219/219 [==============================] - 0s 654us/step - loss: 0.3521 - accuracy: 0.8563\n",
      "Epoch 84/100\n",
      "219/219 [==============================] - 0s 672us/step - loss: 0.3358 - accuracy: 0.8610\n",
      "Epoch 85/100\n",
      "219/219 [==============================] - 0s 677us/step - loss: 0.3319 - accuracy: 0.8622\n",
      "Epoch 86/100\n",
      "219/219 [==============================] - 0s 654us/step - loss: 0.3325 - accuracy: 0.8636\n",
      "Epoch 87/100\n",
      "219/219 [==============================] - 0s 672us/step - loss: 0.3490 - accuracy: 0.8563\n",
      "Epoch 88/100\n",
      "219/219 [==============================] - 0s 824us/step - loss: 0.3341 - accuracy: 0.8626\n",
      "Epoch 89/100\n",
      "219/219 [==============================] - 0s 677us/step - loss: 0.3339 - accuracy: 0.8658\n",
      "Epoch 90/100\n",
      "219/219 [==============================] - 0s 765us/step - loss: 0.3289 - accuracy: 0.8669\n",
      "Epoch 91/100\n",
      "219/219 [==============================] - 0s 791us/step - loss: 0.3346 - accuracy: 0.8595\n",
      "Epoch 92/100\n",
      "219/219 [==============================] - 0s 805us/step - loss: 0.3257 - accuracy: 0.8666\n",
      "Epoch 93/100\n",
      "219/219 [==============================] - 0s 690us/step - loss: 0.3353 - accuracy: 0.8609\n",
      "Epoch 94/100\n",
      "219/219 [==============================] - 0s 686us/step - loss: 0.3360 - accuracy: 0.8601\n",
      "Epoch 95/100\n",
      "219/219 [==============================] - 0s 667us/step - loss: 0.3368 - accuracy: 0.8605\n",
      "Epoch 96/100\n",
      "219/219 [==============================] - 0s 681us/step - loss: 0.3545 - accuracy: 0.8556\n",
      "Epoch 97/100\n",
      "219/219 [==============================] - 0s 672us/step - loss: 0.3325 - accuracy: 0.8660\n",
      "Epoch 98/100\n",
      "219/219 [==============================] - 0s 681us/step - loss: 0.3366 - accuracy: 0.8624\n",
      "Epoch 99/100\n",
      "219/219 [==============================] - 0s 658us/step - loss: 0.3332 - accuracy: 0.8596\n",
      "Epoch 100/100\n",
      "219/219 [==============================] - 0s 713us/step - loss: 0.3275 - accuracy: 0.8683\n"
     ]
    },
    {
     "data": {
      "text/plain": [
       "<tensorflow.python.keras.callbacks.History at 0x24a47e49220>"
      ]
     },
     "execution_count": 33,
     "metadata": {},
     "output_type": "execute_result"
    }
   ],
   "source": [
    "# Training the Ann\n",
    "ann.fit(X_train,y_train,batch_size=32,epochs=100)"
   ]
  },
  {
   "cell_type": "markdown",
   "metadata": {},
   "source": [
    "### Predicting the result"
   ]
  },
  {
   "cell_type": "code",
   "execution_count": 34,
   "metadata": {},
   "outputs": [
    {
     "name": "stdout",
     "output_type": "stream",
     "text": [
      "[[0 0]\n",
      " [0 0]\n",
      " [0 0]\n",
      " ...\n",
      " [0 0]\n",
      " [0 0]\n",
      " [0 0]]\n"
     ]
    }
   ],
   "source": [
    "y_pred=ann.predict(X_test)\n",
    "y_pred=(y_pred>0.5)\n",
    "print(np.concatenate((y_pred.reshape(len(y_pred),1),y_test.reshape(len(y_test),1)),1))"
   ]
  },
  {
   "cell_type": "markdown",
   "metadata": {},
   "source": [
    "### Making the confusion Matrix"
   ]
  },
  {
   "cell_type": "code",
   "execution_count": 44,
   "metadata": {},
   "outputs": [
    {
     "name": "stdout",
     "output_type": "stream",
     "text": [
      " Confusion matrix:\n",
      " [[2313  103]\n",
      " [ 316  268]]\n",
      " Accuracy rate: 86.03 %\n"
     ]
    }
   ],
   "source": [
    "from sklearn.metrics import confusion_matrix,accuracy_score\n",
    "print(\" Confusion matrix:\\n {}\".format(confusion_matrix(y_test,y_pred)))\n",
    "print(\" Accuracy rate: {:.2f} %\".format(accuracy_score(y_test,y_pred)*100))"
   ]
  },
  {
   "cell_type": "markdown",
   "metadata": {},
   "source": [
    "### Predicting the result with the following information"
   ]
  },
  {
   "cell_type": "markdown",
   "metadata": {},
   "source": [
    "\n",
    "Use our ANN model to predict if the customer with the following informations will leave the bank:\n",
    "Geography: France\n",
    "\n",
    "Credit Score: 600\n",
    "\n",
    "Gender: Male\n",
    "\n",
    "Age: 40 years old\n",
    "\n",
    "Tenure: 3 years\n",
    "\n",
    "Balance: $ 60000\n",
    "\n",
    "Number of Products: 2\n",
    "\n",
    "Does this customer have a credit card ? Yes\n",
    "\n",
    "Is this customer an Active Member: Yes\n",
    "\n",
    "Estimated Salary: $ 50000\n",
    "\n",
    "So, should we say goodbye to that customer ?"
   ]
  },
  {
   "cell_type": "code",
   "execution_count": 53,
   "metadata": {},
   "outputs": [
    {
     "name": "stdout",
     "output_type": "stream",
     "text": [
      "No, Customer will live the Bank vey soon, act accordingly \n"
     ]
    }
   ],
   "source": [
    "predict=ann.predict(sc.transform([[1,0,0, 600, 1, 40, 3, 60000, 2, 1, 1, 50000]]))\n",
    "if(predict>=.50):\n",
    "    print(\"Yes,Customer will stay with the bank\")\n",
    "else:\n",
    "    print(\"No, Customer will live the Bank vey soon, act accordingly \")"
   ]
  },
  {
   "cell_type": "code",
   "execution_count": null,
   "metadata": {},
   "outputs": [],
   "source": []
  }
 ],
 "metadata": {
  "kernelspec": {
   "display_name": "Python 3",
   "language": "python",
   "name": "python3"
  },
  "language_info": {
   "codemirror_mode": {
    "name": "ipython",
    "version": 3
   },
   "file_extension": ".py",
   "mimetype": "text/x-python",
   "name": "python",
   "nbconvert_exporter": "python",
   "pygments_lexer": "ipython3",
   "version": "3.8.5"
  }
 },
 "nbformat": 4,
 "nbformat_minor": 4
}
